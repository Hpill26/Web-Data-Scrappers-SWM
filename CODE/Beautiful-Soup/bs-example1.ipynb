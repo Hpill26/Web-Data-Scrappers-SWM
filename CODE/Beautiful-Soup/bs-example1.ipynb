{
 "cells": [
  {
   "cell_type": "code",
   "execution_count": 1,
   "id": "8069b712-792a-42c6-8118-593a77d3304a",
   "metadata": {},
   "outputs": [],
   "source": [
    "from bs4 import BeautifulSoup\n",
    "\n",
    "html_doc = \"<html><body><p>Hello, World!</p></body></html>\"\n",
    "soup = BeautifulSoup(html_doc, 'html.parser')"
   ]
  },
  {
   "cell_type": "code",
   "execution_count": 6,
   "id": "2a090018-dca2-443d-9e95-7fe0fdb4e140",
   "metadata": {},
   "outputs": [],
   "source": [
    "import requests \n",
    "from bs4 import BeautifulSoup \n",
    "import csv \n",
    "   \n",
    "URL = \"http://www.values.com/inspirational-quotes\"\n",
    "r = requests.get(URL) \n",
    "   \n",
    "soup = BeautifulSoup(r.content, 'html5lib') \n",
    "\n",
    "   \n",
    "quotes=[]  # a list to store quotes \n",
    "   \n",
    "table = soup.find('div', attrs = {'id':'all_quotes'})  \n",
    "\n",
    "   \n",
    "for row in table.findAll('div', \n",
    "                         attrs = {'class':'col-6 col-lg-4 text-center margin-30px-bottom sm-margin-30px-top'}): \n",
    "    quote = {} \n",
    "    quote['theme'] = row.h5.text \n",
    "    quote['url'] = row.a['href'] \n",
    "    quote['img'] = row.img['src'] \n",
    "    quote['lines'] = row.img['alt'].split(\" #\")[0] \n",
    "    quote['author'] = row.img['alt'].split(\" #\")[1] \n",
    "    quotes.append(quote) \n",
    "   \n",
    "filename = 'inspirational_quotes.csv'\n",
    "with open(filename, 'w', newline='') as f: \n",
    "    w = csv.DictWriter(f,['theme','url','img','lines','author']) \n",
    "    w.writeheader() \n",
    "    for quote in quotes: \n",
    "        w.writerow(quote) "
   ]
  },
  {
   "cell_type": "code",
   "execution_count": null,
   "id": "c6ffbf61-c01b-4b30-9044-e2a8bbd0e8da",
   "metadata": {},
   "outputs": [],
   "source": []
  }
 ],
 "metadata": {
  "kernelspec": {
   "display_name": "Python 3 (ipykernel)",
   "language": "python",
   "name": "python3"
  },
  "language_info": {
   "codemirror_mode": {
    "name": "ipython",
    "version": 3
   },
   "file_extension": ".py",
   "mimetype": "text/x-python",
   "name": "python",
   "nbconvert_exporter": "python",
   "pygments_lexer": "ipython3",
   "version": "3.11.4"
  }
 },
 "nbformat": 4,
 "nbformat_minor": 5
}
