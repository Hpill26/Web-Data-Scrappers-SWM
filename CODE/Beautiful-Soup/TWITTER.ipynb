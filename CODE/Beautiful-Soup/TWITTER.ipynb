{
 "cells": [
  {
   "cell_type": "code",
   "execution_count": 8,
   "metadata": {},
   "outputs": [],
   "source": [
    "from bs4 import BeautifulSoup\n",
    "import requests\n",
    "import sys\n",
    "import json\n",
    "import tweepy"
   ]
  },
  {
   "cell_type": "code",
   "execution_count": null,
   "metadata": {},
   "outputs": [],
   "source": [
    "gCzF7jsm2cmg003jJa21jv92p - API KEY \n",
    "sLZeAM4yIYiWMQSanW5rrSzOnXFw3g6m17lgVN1VWveOhHw0Hv - API KEY SECRET\n",
    "Acess token - 1593568890881454081-yuA3HtK3oGHF51klLQ5WRg0tsWUGrm\n",
    "Access secret - BXFBOCCLX0uThU7xn8OSjaZRxhLt216eIOCCVVapd5h09\n"
   ]
  },
  {
   "cell_type": "code",
   "execution_count": 3,
   "metadata": {},
   "outputs": [
    {
     "name": "stdout",
     "output_type": "stream",
     "text": [
      "Error: 403 Forbidden\n",
      "453 - You currently have access to a subset of Twitter API v2 endpoints and limited v1.1 endpoints (e.g. media post, oauth) only. If you need access to this endpoint, you may need a different access level. You can learn more here: https://developer.twitter.com/en/portal/product\n"
     ]
    }
   ],
   "source": [
    "import tweepy\n",
    "from bs4 import BeautifulSoup\n",
    "import requests\n",
    "\n",
    "# Twitter API keys (replace with your own)\n",
    "consumer_key = 'gCzF7jsm2cmg003jJa21jv92p'\n",
    "consumer_secret = 'sLZeAM4yIYiWMQSanW5rrSzOnXFw3g6m17lgVN1VWveOhHw0Hv'\n",
    "access_token = '1593568890881454081-yuA3HtK3oGHF51klLQ5WRg0tsWUGrm'\n",
    "access_token_secret = 'BXFBOCCLX0uThU7xn8OSjaZRxhLt216eIOCCVVapd5h09'\n",
    "\n",
    "# Set up Tweepy authentication\n",
    "auth = tweepy.OAuthHandler(consumer_key, consumer_secret)\n",
    "auth.set_access_token(access_token, access_token_secret)\n",
    "api = tweepy.API(auth, wait_on_rate_limit=True)\n",
    "\n",
    "def scrape_twitter(username, num_tweets=10):\n",
    "    try:\n",
    "        # Get user's tweets using Tweepy\n",
    "        tweets = tweepy.Cursor(api.user_timeline, screen_name=username, tweet_mode='extended').items(num_tweets)\n",
    "\n",
    "        for tweet in tweets:\n",
    "            tweet_text = tweet.full_text\n",
    "\n",
    "            # If you want to do additional processing with Beautiful Soup, you can\n",
    "            soup = BeautifulSoup(tweet_text, 'html.parser')\n",
    "            processed_text = soup.get_text()\n",
    "\n",
    "            print(processed_text)\n",
    "            print('---')\n",
    "\n",
    "    except tweepy.errors.TweepyException as e:\n",
    "        print(f\"Error: {e}\")\n",
    "\n",
    "if __name__ == '__main__':\n",
    "    # Replace 'twitter_username' with the desired Twitter username\n",
    "    scrape_twitter('narendramodi', num_tweets=5)"
   ]
  },
  {
   "cell_type": "code",
   "execution_count": 4,
   "metadata": {},
   "outputs": [
    {
     "ename": "Forbidden",
     "evalue": "403 Forbidden\n453 - You currently have access to a subset of Twitter API v2 endpoints and limited v1.1 endpoints (e.g. media post, oauth) only. If you need access to this endpoint, you may need a different access level. You can learn more here: https://developer.twitter.com/en/portal/product",
     "output_type": "error",
     "traceback": [
      "\u001b[0;31m---------------------------------------------------------------------------\u001b[0m",
      "\u001b[0;31mForbidden\u001b[0m                                 Traceback (most recent call last)",
      "\u001b[1;32m/Users/niharnayak/Documents/SWM/Project/Web-Data-Scrappers-SWM/CODE/Beautiful-Soup/TWITTER.ipynb Cell 5\u001b[0m line \u001b[0;36m3\n\u001b[1;32m     <a href='vscode-notebook-cell:/Users/niharnayak/Documents/SWM/Project/Web-Data-Scrappers-SWM/CODE/Beautiful-Soup/TWITTER.ipynb#W5sZmlsZQ%3D%3D?line=35'>36</a>\u001b[0m \u001b[39m# Number of tweets to retrieve\u001b[39;00m\n\u001b[1;32m     <a href='vscode-notebook-cell:/Users/niharnayak/Documents/SWM/Project/Web-Data-Scrappers-SWM/CODE/Beautiful-Soup/TWITTER.ipynb#W5sZmlsZQ%3D%3D?line=36'>37</a>\u001b[0m tweet_count \u001b[39m=\u001b[39m \u001b[39m10\u001b[39m\n\u001b[0;32m---> <a href='vscode-notebook-cell:/Users/niharnayak/Documents/SWM/Project/Web-Data-Scrappers-SWM/CODE/Beautiful-Soup/TWITTER.ipynb#W5sZmlsZQ%3D%3D?line=38'>39</a>\u001b[0m user_tweets \u001b[39m=\u001b[39m get_user_timeline(api, target_user, tweet_count)\n\u001b[1;32m     <a href='vscode-notebook-cell:/Users/niharnayak/Documents/SWM/Project/Web-Data-Scrappers-SWM/CODE/Beautiful-Soup/TWITTER.ipynb#W5sZmlsZQ%3D%3D?line=39'>40</a>\u001b[0m print_tweet_texts(user_tweets)\n",
      "\u001b[1;32m/Users/niharnayak/Documents/SWM/Project/Web-Data-Scrappers-SWM/CODE/Beautiful-Soup/TWITTER.ipynb Cell 5\u001b[0m line \u001b[0;36m2\n\u001b[1;32m     <a href='vscode-notebook-cell:/Users/niharnayak/Documents/SWM/Project/Web-Data-Scrappers-SWM/CODE/Beautiful-Soup/TWITTER.ipynb#W5sZmlsZQ%3D%3D?line=15'>16</a>\u001b[0m \u001b[39mdef\u001b[39;00m \u001b[39mget_user_timeline\u001b[39m(api, username, count\u001b[39m=\u001b[39m\u001b[39m10\u001b[39m):\n\u001b[1;32m     <a href='vscode-notebook-cell:/Users/niharnayak/Documents/SWM/Project/Web-Data-Scrappers-SWM/CODE/Beautiful-Soup/TWITTER.ipynb#W5sZmlsZQ%3D%3D?line=16'>17</a>\u001b[0m \u001b[39m    \u001b[39m\u001b[39m\"\"\"\u001b[39;00m\n\u001b[1;32m     <a href='vscode-notebook-cell:/Users/niharnayak/Documents/SWM/Project/Web-Data-Scrappers-SWM/CODE/Beautiful-Soup/TWITTER.ipynb#W5sZmlsZQ%3D%3D?line=17'>18</a>\u001b[0m \u001b[39m    Get the timeline of a user.\u001b[39;00m\n\u001b[1;32m     <a href='vscode-notebook-cell:/Users/niharnayak/Documents/SWM/Project/Web-Data-Scrappers-SWM/CODE/Beautiful-Soup/TWITTER.ipynb#W5sZmlsZQ%3D%3D?line=18'>19</a>\u001b[0m \u001b[39m    \"\"\"\u001b[39;00m\n\u001b[0;32m---> <a href='vscode-notebook-cell:/Users/niharnayak/Documents/SWM/Project/Web-Data-Scrappers-SWM/CODE/Beautiful-Soup/TWITTER.ipynb#W5sZmlsZQ%3D%3D?line=19'>20</a>\u001b[0m     public_tweets \u001b[39m=\u001b[39m api\u001b[39m.\u001b[39;49muser_timeline(screen_name\u001b[39m=\u001b[39;49musername, count\u001b[39m=\u001b[39;49mcount)\n\u001b[1;32m     <a href='vscode-notebook-cell:/Users/niharnayak/Documents/SWM/Project/Web-Data-Scrappers-SWM/CODE/Beautiful-Soup/TWITTER.ipynb#W5sZmlsZQ%3D%3D?line=20'>21</a>\u001b[0m     \u001b[39mreturn\u001b[39;00m public_tweets\n",
      "File \u001b[0;32m/Library/Frameworks/Python.framework/Versions/3.11/lib/python3.11/site-packages/tweepy/api.py:33\u001b[0m, in \u001b[0;36mpagination.<locals>.decorator.<locals>.wrapper\u001b[0;34m(*args, **kwargs)\u001b[0m\n\u001b[1;32m     31\u001b[0m \u001b[39m@functools\u001b[39m\u001b[39m.\u001b[39mwraps(method)\n\u001b[1;32m     32\u001b[0m \u001b[39mdef\u001b[39;00m \u001b[39mwrapper\u001b[39m(\u001b[39m*\u001b[39margs, \u001b[39m*\u001b[39m\u001b[39m*\u001b[39mkwargs):\n\u001b[0;32m---> 33\u001b[0m     \u001b[39mreturn\u001b[39;00m method(\u001b[39m*\u001b[39;49margs, \u001b[39m*\u001b[39;49m\u001b[39m*\u001b[39;49mkwargs)\n",
      "File \u001b[0;32m/Library/Frameworks/Python.framework/Versions/3.11/lib/python3.11/site-packages/tweepy/api.py:46\u001b[0m, in \u001b[0;36mpayload.<locals>.decorator.<locals>.wrapper\u001b[0;34m(*args, **kwargs)\u001b[0m\n\u001b[1;32m     44\u001b[0m kwargs[\u001b[39m'\u001b[39m\u001b[39mpayload_list\u001b[39m\u001b[39m'\u001b[39m] \u001b[39m=\u001b[39m payload_list\n\u001b[1;32m     45\u001b[0m kwargs[\u001b[39m'\u001b[39m\u001b[39mpayload_type\u001b[39m\u001b[39m'\u001b[39m] \u001b[39m=\u001b[39m payload_type\n\u001b[0;32m---> 46\u001b[0m \u001b[39mreturn\u001b[39;00m method(\u001b[39m*\u001b[39;49margs, \u001b[39m*\u001b[39;49m\u001b[39m*\u001b[39;49mkwargs)\n",
      "File \u001b[0;32m/Library/Frameworks/Python.framework/Versions/3.11/lib/python3.11/site-packages/tweepy/api.py:414\u001b[0m, in \u001b[0;36mAPI.user_timeline\u001b[0;34m(self, **kwargs)\u001b[0m\n\u001b[1;32m    373\u001b[0m \u001b[39m@pagination\u001b[39m(mode\u001b[39m=\u001b[39m\u001b[39m'\u001b[39m\u001b[39mid\u001b[39m\u001b[39m'\u001b[39m)\n\u001b[1;32m    374\u001b[0m \u001b[39m@payload\u001b[39m(\u001b[39m'\u001b[39m\u001b[39mstatus\u001b[39m\u001b[39m'\u001b[39m, \u001b[39mlist\u001b[39m\u001b[39m=\u001b[39m\u001b[39mTrue\u001b[39;00m)\n\u001b[1;32m    375\u001b[0m \u001b[39mdef\u001b[39;00m \u001b[39muser_timeline\u001b[39m(\u001b[39mself\u001b[39m, \u001b[39m*\u001b[39m\u001b[39m*\u001b[39mkwargs):\n\u001b[1;32m    376\u001b[0m \u001b[39m    \u001b[39m\u001b[39m\"\"\"user_timeline(*, user_id, screen_name, since_id, count, max_id, \\\u001b[39;00m\n\u001b[1;32m    377\u001b[0m \u001b[39m                     trim_user, exclude_replies, include_rts)\u001b[39;00m\n\u001b[1;32m    378\u001b[0m \n\u001b[0;32m   (...)\u001b[0m\n\u001b[1;32m    412\u001b[0m \u001b[39m    https://developer.twitter.com/en/docs/twitter-api/v1/tweets/timelines/api-reference/get-statuses-user_timeline\u001b[39;00m\n\u001b[1;32m    413\u001b[0m \u001b[39m    \"\"\"\u001b[39;00m\n\u001b[0;32m--> 414\u001b[0m     \u001b[39mreturn\u001b[39;00m \u001b[39mself\u001b[39;49m\u001b[39m.\u001b[39;49mrequest(\n\u001b[1;32m    415\u001b[0m         \u001b[39m'\u001b[39;49m\u001b[39mGET\u001b[39;49m\u001b[39m'\u001b[39;49m, \u001b[39m'\u001b[39;49m\u001b[39mstatuses/user_timeline\u001b[39;49m\u001b[39m'\u001b[39;49m, endpoint_parameters\u001b[39m=\u001b[39;49m(\n\u001b[1;32m    416\u001b[0m             \u001b[39m'\u001b[39;49m\u001b[39muser_id\u001b[39;49m\u001b[39m'\u001b[39;49m, \u001b[39m'\u001b[39;49m\u001b[39mscreen_name\u001b[39;49m\u001b[39m'\u001b[39;49m, \u001b[39m'\u001b[39;49m\u001b[39msince_id\u001b[39;49m\u001b[39m'\u001b[39;49m, \u001b[39m'\u001b[39;49m\u001b[39mcount\u001b[39;49m\u001b[39m'\u001b[39;49m, \u001b[39m'\u001b[39;49m\u001b[39mmax_id\u001b[39;49m\u001b[39m'\u001b[39;49m,\n\u001b[1;32m    417\u001b[0m             \u001b[39m'\u001b[39;49m\u001b[39mtrim_user\u001b[39;49m\u001b[39m'\u001b[39;49m, \u001b[39m'\u001b[39;49m\u001b[39mexclude_replies\u001b[39;49m\u001b[39m'\u001b[39;49m, \u001b[39m'\u001b[39;49m\u001b[39minclude_rts\u001b[39;49m\u001b[39m'\u001b[39;49m\n\u001b[1;32m    418\u001b[0m         ), \u001b[39m*\u001b[39;49m\u001b[39m*\u001b[39;49mkwargs\n\u001b[1;32m    419\u001b[0m     )\n",
      "File \u001b[0;32m/Library/Frameworks/Python.framework/Versions/3.11/lib/python3.11/site-packages/tweepy/api.py:271\u001b[0m, in \u001b[0;36mAPI.request\u001b[0;34m(self, method, endpoint, endpoint_parameters, params, headers, json_payload, parser, payload_list, payload_type, post_data, files, require_auth, return_cursors, upload_api, use_cache, **kwargs)\u001b[0m\n\u001b[1;32m    269\u001b[0m     \u001b[39mraise\u001b[39;00m Unauthorized(resp)\n\u001b[1;32m    270\u001b[0m \u001b[39mif\u001b[39;00m resp\u001b[39m.\u001b[39mstatus_code \u001b[39m==\u001b[39m \u001b[39m403\u001b[39m:\n\u001b[0;32m--> 271\u001b[0m     \u001b[39mraise\u001b[39;00m Forbidden(resp)\n\u001b[1;32m    272\u001b[0m \u001b[39mif\u001b[39;00m resp\u001b[39m.\u001b[39mstatus_code \u001b[39m==\u001b[39m \u001b[39m404\u001b[39m:\n\u001b[1;32m    273\u001b[0m     \u001b[39mraise\u001b[39;00m NotFound(resp)\n",
      "\u001b[0;31mForbidden\u001b[0m: 403 Forbidden\n453 - You currently have access to a subset of Twitter API v2 endpoints and limited v1.1 endpoints (e.g. media post, oauth) only. If you need access to this endpoint, you may need a different access level. You can learn more here: https://developer.twitter.com/en/portal/product"
     ]
    }
   ],
   "source": [
    "import tweepy\n",
    "\n",
    "API_KEY = \"gCzF7jsm2cmg003jJa21jv92p\"\n",
    "API_SECRET_KEY = \"sLZeAM4yIYiWMQSanW5rrSzOnXFw3g6m17lgVN1VWveOhHw0Hv\"\n",
    "ACCESS_TOKEN = \"1593568890881454081-yuA3HtK3oGHF51klLQ5WRg0tsWUGrm\"\n",
    "ACCESS_TOKEN_SECRET = \"BXFBOCCLX0uThU7xn8OSjaZRxhLt216eIOCCVVapd5h09\"\n",
    "\n",
    "def authenticate_to_twitter(api_key, api_secret_key, access_token, access_token_secret):\n",
    "    \"\"\"\n",
    "    Authenticate to Twitter API.\n",
    "    \"\"\"\n",
    "    auth = tweepy.OAuthHandler(api_key, api_secret_key)\n",
    "    auth.set_access_token(access_token, access_token_secret)\n",
    "    return tweepy.API(auth)\n",
    "\n",
    "def get_user_timeline(api, username, count=10):\n",
    "    \"\"\"\n",
    "    Get the timeline of a user.\n",
    "    \"\"\"\n",
    "    public_tweets = api.user_timeline(screen_name=username, count=count)\n",
    "    return public_tweets\n",
    "\n",
    "def print_tweet_texts(tweets):\n",
    "    \"\"\"\n",
    "    Print the text of each tweet.\n",
    "    \"\"\"\n",
    "    for tweet in tweets:\n",
    "        print(tweet.text)\n",
    "\n",
    "if __name__ == \"__main__\":\n",
    "    api = authenticate_to_twitter(API_KEY, API_SECRET_KEY, ACCESS_TOKEN, ACCESS_TOKEN_SECRET)\n",
    "\n",
    "    # Specify the Twitter username you want to get the timeline for\n",
    "    target_user = 'twitter'\n",
    "\n",
    "    # Number of tweets to retrieve\n",
    "    tweet_count = 10\n",
    "\n",
    "    user_tweets = get_user_timeline(api, target_user, tweet_count)\n",
    "    print_tweet_texts(user_tweets)\n"
   ]
  },
  {
   "cell_type": "code",
   "execution_count": null,
   "metadata": {},
   "outputs": [],
   "source": []
  }
 ],
 "metadata": {
  "kernelspec": {
   "display_name": "Python 3",
   "language": "python",
   "name": "python3"
  },
  "language_info": {
   "codemirror_mode": {
    "name": "ipython",
    "version": 3
   },
   "file_extension": ".py",
   "mimetype": "text/x-python",
   "name": "python",
   "nbconvert_exporter": "python",
   "pygments_lexer": "ipython3",
   "version": "3.11.4"
  }
 },
 "nbformat": 4,
 "nbformat_minor": 2
}
