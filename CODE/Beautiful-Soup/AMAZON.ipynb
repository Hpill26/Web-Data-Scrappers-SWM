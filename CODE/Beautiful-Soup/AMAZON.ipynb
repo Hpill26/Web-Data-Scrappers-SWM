{
 "cells": [
  {
   "cell_type": "code",
   "execution_count": 1,
   "id": "d8f7409b-b1d6-4444-b21c-b5bf48c7c905",
   "metadata": {},
   "outputs": [],
   "source": [
    "import requests \n",
    "from bs4 import BeautifulSoup \n",
    "import csv "
   ]
  },
  {
   "cell_type": "code",
   "execution_count": 2,
   "id": "cdabf239-ee28-4adf-b59c-ee5d31dbcfa5",
   "metadata": {},
   "outputs": [],
   "source": [
    "URL = \"http://www.values.com/inspirational-quotes\"\n",
    "r = requests.get(URL) "
   ]
  },
  {
   "cell_type": "code",
   "execution_count": null,
   "id": "1e40ae56-40f9-4752-8526-9143faa04ee4",
   "metadata": {},
   "outputs": [],
   "source": []
  }
 ],
 "metadata": {
  "kernelspec": {
   "display_name": "Python 3 (ipykernel)",
   "language": "python",
   "name": "python3"
  },
  "language_info": {
   "codemirror_mode": {
    "name": "ipython",
    "version": 3
   },
   "file_extension": ".py",
   "mimetype": "text/x-python",
   "name": "python",
   "nbconvert_exporter": "python",
   "pygments_lexer": "ipython3",
   "version": "3.11.4"
  }
 },
 "nbformat": 4,
 "nbformat_minor": 5
}
